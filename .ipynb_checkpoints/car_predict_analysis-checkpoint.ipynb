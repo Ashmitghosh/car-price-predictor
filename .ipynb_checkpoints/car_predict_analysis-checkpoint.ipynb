{
 "cells": [
  {
   "cell_type": "code",
   "execution_count": 77,
   "id": "d951041f-dcd1-4fb6-be75-c197f3263395",
   "metadata": {},
   "source": [
    "import pandas as pd\n",
    "import numpy as np"
   ],
   "outputs": []
  },
  {
   "cell_type": "code",
   "execution_count": 2,
   "id": "93984991-30f1-4303-825e-8fad67dbfc46",
   "metadata": {},
   "source": [
    "car=pd.read_csv('quikr_car.csv')"
   ],
   "outputs": []
  },
  {
   "cell_type": "code",
   "execution_count": 3,
   "id": "3849f572-e97f-425b-8039-f9c82d9c28b1",
   "metadata": {},
   "source": [
    "car.head()"
   ],
   "outputs": []
  },
  {
   "cell_type": "code",
   "execution_count": 5,
   "id": "7c082b7b-1969-40ee-b7a5-6288c97ae6d6",
   "metadata": {},
   "source": [
    "car.shape"
   ],
   "outputs": []
  },
  {
   "cell_type": "code",
   "execution_count": 6,
   "id": "c445e052-3406-412a-8b4c-ef792f87d221",
   "metadata": {},
   "source": [
    "car.info()"
   ],
   "outputs": []
  },
  {
   "cell_type": "markdown",
   "id": "5e9671e0-f59c-4af6-a896-bc218a9fd13d",
   "metadata": {},
   "source": [
    "### Creating backup copy"
   ]
  },
  {
   "cell_type": "code",
   "execution_count": 8,
   "id": "799ac039-e174-4034-9795-5fe29acd7e9c",
   "metadata": {},
   "source": [
    "backup=car.copy()"
   ],
   "outputs": []
  },
  {
   "cell_type": "markdown",
   "id": "3475fefb-1bec-4c5b-ae10-7d034f517059",
   "metadata": {},
   "source": [
    "Quality\n",
    "names are pretty inconsistent\n",
    "names have company names attached to it\n",
    "some names are spam like 'Maruti Ertiga showroom condition with' and 'Well mentained Tata Sumo'\n",
    "company: many of the names are not of any company like 'Used', 'URJENT', and so on.\n",
    "year has many non-year values\n",
    "year is in object. Change to integer\n",
    "Price has Ask for Price\n",
    "Price has commas in its prices and is in object\n",
    "kms_driven has object values with kms at last.\n",
    "It has nan values and two rows have 'Petrol' in them\n",
    "fuel_type has nan values\n",
    "Cleaning Data"
   ]
  },
  {
   "cell_type": "markdown",
   "id": "c8eab76a-90b9-4ed4-a8cf-0981982aac2f",
   "metadata": {},
   "source": [
    "### Cleaning Data"
   ]
  },
  {
   "cell_type": "code",
   "execution_count": 9,
   "id": "f9726d43-7208-4029-8a2b-26dff940ebfb",
   "metadata": {},
   "source": [
    "car=car[car['year'].str.isnumeric()]"
   ],
   "outputs": []
  },
  {
   "cell_type": "code",
   "execution_count": 10,
   "id": "530d91cf-c13c-41df-bacd-b1c7542a454b",
   "metadata": {},
   "source": [
    "car['year']=car['year'].astype(int)"
   ],
   "outputs": []
  },
  {
   "cell_type": "code",
   "execution_count": 11,
   "id": "3abe50ca-51ce-4e43-8e1c-cd6b6fa4c9bb",
   "metadata": {},
   "source": [
    "car.info()"
   ],
   "outputs": []
  },
  {
   "cell_type": "code",
   "execution_count": 12,
   "id": "8baa7bf0-3152-4e00-8d42-230ed505333b",
   "metadata": {},
   "source": [
    "car=car[car['Price']!='Ask For Price']"
   ],
   "outputs": []
  },
  {
   "cell_type": "code",
   "execution_count": 13,
   "id": "c65972cd-b72d-48d1-b057-643adb8351ab",
   "metadata": {},
   "source": [
    "car['Price']=car['Price'].str.replace(',','')"
   ],
   "outputs": []
  },
  {
   "cell_type": "code",
   "execution_count": 14,
   "id": "21cb4cea-6e2f-4cee-af21-e34e88f518a7",
   "metadata": {},
   "source": [
    "car['Price']=car['Price'].astype(int)"
   ],
   "outputs": []
  },
  {
   "cell_type": "code",
   "execution_count": 15,
   "id": "5835acef-4d00-40fe-b083-c1d6ea55344c",
   "metadata": {},
   "source": [
    "car.info()"
   ],
   "outputs": []
  },
  {
   "cell_type": "code",
   "execution_count": 17,
   "id": "228b4a3a-188b-4687-bbe8-aa73b9d9e64f",
   "metadata": {},
   "source": [
    "car['kms_driven']=car['kms_driven'].str.split().str.get(0).str.replace(',','')"
   ],
   "outputs": []
  },
  {
   "cell_type": "code",
   "execution_count": 20,
   "id": "03bdc6de-5afe-491d-a70d-215259279292",
   "metadata": {},
   "source": [
    "car=car[car['kms_driven'].str.isnumeric()]"
   ],
   "outputs": []
  },
  {
   "cell_type": "code",
   "execution_count": 21,
   "id": "d66d905b-6648-4cfb-9d79-1e75532701e0",
   "metadata": {},
   "source": [
    "car['kms_driven']=car['kms_driven'].astype(int)"
   ],
   "outputs": []
  },
  {
   "cell_type": "code",
   "execution_count": 22,
   "id": "ee158211-a5f2-46f8-b5fc-01e4728f5537",
   "metadata": {},
   "source": [
    "car.info()"
   ],
   "outputs": []
  },
  {
   "cell_type": "code",
   "execution_count": 25,
   "id": "b9d0c498-b389-4afa-aeba-765f9f747711",
   "metadata": {},
   "source": [
    "car=car[~car['fuel_type'].isna()] "
   ],
   "outputs": []
  },
  {
   "cell_type": "code",
   "execution_count": 26,
   "id": "3b2f1a10-1cd4-420a-a9be-d79765c07b9d",
   "metadata": {},
   "source": [
    "car.shape"
   ],
   "outputs": []
  },
  {
   "cell_type": "markdown",
   "id": "2e42825a-77a6-4d2e-b6dc-c96ba7624cc5",
   "metadata": {},
   "source": [
    "Changing car names. Keeping only the first three words"
   ]
  },
  {
   "cell_type": "code",
   "execution_count": 30,
   "id": "19d59020-7d80-41af-916d-0ec7fac60f4f",
   "metadata": {},
   "source": [
    "car['name']=car['name'].str.split().str.slice(start=0,stop=3).str.join(' ')"
   ],
   "outputs": []
  },
  {
   "cell_type": "code",
   "execution_count": 28,
   "id": "981ea16b-18e1-4739-aa7b-dd3dfda49357",
   "metadata": {},
   "source": [
    "car.head()\n"
   ],
   "outputs": []
  },
  {
   "cell_type": "code",
   "execution_count": 31,
   "id": "4bdcc918-0f29-47a9-9f96-c2c1b93ec52c",
   "metadata": {},
   "source": [
    "car=car.reset_index(drop=True)"
   ],
   "outputs": []
  },
  {
   "cell_type": "code",
   "execution_count": 32,
   "id": "4a59d15a-0d05-462b-b0b3-016df428c272",
   "metadata": {},
   "source": [
    "car"
   ],
   "outputs": []
  },
  {
   "cell_type": "code",
   "execution_count": 34,
   "id": "f6c76135-9b1b-4659-8f43-61a181242b08",
   "metadata": {},
   "source": [
    "car.shape\n"
   ],
   "outputs": []
  },
  {
   "cell_type": "code",
   "execution_count": 38,
   "id": "c215359c-a17c-4382-b653-b47db1d65286",
   "metadata": {},
   "source": [
    "car.describe()"
   ],
   "outputs": []
  },
  {
   "cell_type": "code",
   "execution_count": 44,
   "id": "968c531b-2438-4cb4-a097-9161058badb6",
   "metadata": {},
   "source": [
    "car=car[car['Price']<6e6].reset_index(drop=True)"
   ],
   "outputs": []
  },
  {
   "cell_type": "markdown",
   "id": "f5b8b96e-5c67-454b-b280-d9a097d22203",
   "metadata": {},
   "source": [
    "clean data"
   ]
  },
  {
   "cell_type": "code",
   "execution_count": 45,
   "id": "62d337d3-dfed-45ba-9ed5-4381bac12a66",
   "metadata": {},
   "source": [
    "car"
   ],
   "outputs": []
  },
  {
   "cell_type": "code",
   "execution_count": 46,
   "id": "758ca9ba-0d52-4763-ac9c-23a8fd5216cb",
   "metadata": {},
   "source": [
    "car.to_csv('Cleaned Car.csv')"
   ],
   "outputs": []
  },
  {
   "cell_type": "code",
   "execution_count": 49,
   "id": "de1176ad-0fd7-406a-8486-299e067862c6",
   "metadata": {},
   "source": [
    "x= car.drop(columns ='Price')\n",
    "y=car['Price']"
   ],
   "outputs": []
  },
  {
   "cell_type": "code",
   "execution_count": 50,
   "id": "63715aec-d4ce-488f-a6ac-24c21bb3b4ce",
   "metadata": {},
   "source": [
    "x"
   ],
   "outputs": []
  },
  {
   "cell_type": "code",
   "execution_count": 51,
   "id": "bbe49cb2-df02-429e-874e-8444ec2c8c4e",
   "metadata": {},
   "source": [
    "y"
   ],
   "outputs": []
  },
  {
   "cell_type": "code",
   "execution_count": 78,
   "id": "55e3bd09-2127-4de4-a83c-f4b9c9fc01d9",
   "metadata": {},
   "source": [
    "from sklearn.model_selection import train_test_split\n",
    "x_train,x_test,y_train, y_test =train_test_split(x,y, test_size=0.2)"
   ],
   "outputs": []
  },
  {
   "cell_type": "code",
   "execution_count": 79,
   "id": "42b1c7c6-6363-464b-b0dd-672e51885732",
   "metadata": {},
   "source": [
    "from sklearn.linear_model import LinearRegression\n",
    "from sklearn.metrics import r2_score\n",
    "from sklearn.preprocessing import OneHotEncoder\n",
    "from sklearn.compose import make_column_transformer\n",
    "from sklearn.pipeline import make_pipeline"
   ],
   "outputs": []
  },
  {
   "cell_type": "code",
   "execution_count": 80,
   "id": "614dd724-610f-4a9f-a6fa-8ea8850fcb59",
   "metadata": {},
   "source": [
    "ohe = OneHotEncoder()\n",
    "ohe.fit(x[['name','company','fuel_type']])"
   ],
   "outputs": []
  },
  {
   "cell_type": "code",
   "execution_count": 81,
   "id": "c8145de6-55a4-4d14-873b-eb864b705e0c",
   "metadata": {},
   "source": [
    "column_trans=make_column_transformer((OneHotEncoder(categories=ohe.categories_),['name','company','fuel_type']),\n",
    "                                    remainder='passthrough')"
   ],
   "outputs": []
  },
  {
   "cell_type": "code",
   "execution_count": 82,
   "id": "44b8e10d-111d-410f-bfb8-053c0ea97c92",
   "metadata": {},
   "source": [
    "lr=LinearRegression()"
   ],
   "outputs": []
  },
  {
   "cell_type": "code",
   "execution_count": 83,
   "id": "cb1de1ff-7173-4651-9b09-58cf679b47d6",
   "metadata": {},
   "source": [
    "pipe=make_pipeline(column_trans,lr)"
   ],
   "outputs": []
  },
  {
   "cell_type": "code",
   "execution_count": 84,
   "id": "617b151b-3155-408b-a81c-6064cbfa7e3e",
   "metadata": {},
   "source": [
    "pipe.fit(x_train,y_train)"
   ],
   "outputs": []
  },
  {
   "cell_type": "code",
   "execution_count": 85,
   "id": "53cac729-6ba0-4bf5-baf2-65bd9c097e6b",
   "metadata": {},
   "source": [
    "y_pred=pipe.predict(x_test)"
   ],
   "outputs": []
  },
  {
   "cell_type": "code",
   "execution_count": 86,
   "id": "5518e277-2947-4759-8f63-fe56ed7baf5d",
   "metadata": {},
   "source": [
    "y_pred"
   ],
   "outputs": []
  },
  {
   "cell_type": "code",
   "execution_count": 88,
   "id": "05569cd2-a6f6-47b5-9aaa-226a4426c381",
   "metadata": {},
   "source": [
    "r2_score(y_test,y_pred)"
   ],
   "outputs": []
  },
  {
   "cell_type": "code",
   "execution_count": 89,
   "id": "65e91d1a-4378-4569-b278-8a8f76278d1f",
   "metadata": {},
   "source": [
    "scores=[]\n",
    "for i in range(1000):\n",
    "    x_train,x_test,y_train,y_test=train_test_split(x,y,test_size=0.1,random_state=i)\n",
    "    lr=LinearRegression()\n",
    "    pipe=make_pipeline(column_trans,lr)\n",
    "    pipe.fit(x_train,y_train)\n",
    "    y_pred=pipe.predict(x_test)\n",
    "    scores.append(r2_score(y_test,y_pred))"
   ],
   "outputs": []
  },
  {
   "cell_type": "code",
   "execution_count": 91,
   "id": "8461ecd9-50c4-4cf0-81c6-d707f395cea2",
   "metadata": {},
   "source": [
    "np.argmax(scores)"
   ],
   "outputs": []
  },
  {
   "cell_type": "code",
   "execution_count": 92,
   "id": "d9a8bf3d-f785-4842-a442-013568f8e1fe",
   "metadata": {},
   "source": [
    "scores[np.argmax(scores)]"
   ],
   "outputs": []
  },
  {
   "cell_type": "code",
   "execution_count": 93,
   "id": "45f6bf37-378d-4bb8-b2a9-330e7fa63906",
   "metadata": {},
   "source": [
    "pipe.predict(pd.DataFrame(columns=x_test.columns,data=np.array(['Maruti Suzuki Swift','Maruti',2019,100,'Petrol']).reshape(1,5)))"
   ],
   "outputs": []
  },
  {
   "cell_type": "code",
   "execution_count": 94,
   "id": "3655d642-2158-4af5-b957-4297594eb391",
   "metadata": {},
   "source": [
    "x_train,x_test,y_train,y_test=train_test_split(x,y,test_size=0.1,random_state=np.argmax(scores))\n",
    "lr=LinearRegression()\n",
    "pipe=make_pipeline(column_trans,lr)\n",
    "pipe.fit(x_train,y_train)\n",
    "y_pred=pipe.predict(x_test)\n",
    "r2_score(y_test,y_pred)"
   ],
   "outputs": []
  },
  {
   "cell_type": "code",
   "execution_count": 95,
   "id": "dc1b9bee-6d40-485b-9a43-f3fdc2f303d5",
   "metadata": {},
   "source": [
    "import pickle"
   ],
   "outputs": []
  },
  {
   "cell_type": "code",
   "execution_count": 96,
   "id": "4e377711-1533-4f6a-bfc2-dda2922d293f",
   "metadata": {},
   "source": [
    "pickle.dump(pipe,open('LinearRegressionModel.pkl','wb'))"
   ],
   "outputs": []
  },
  {
   "cell_type": "code",
   "execution_count": 97,
   "id": "deb1af08-d6fe-4d95-9893-dcdb3bf54321",
   "metadata": {},
   "source": [
    "pipe.predict(pd.DataFrame(columns=['name','company','year','kms_driven','fuel_type'],data=np.array(['Maruti Suzuki Swift','Maruti',2019,100,'Petrol']).reshape(1,5)))"
   ],
   "outputs": []
  },
  {
   "cell_type": "code",
   "execution_count": 98,
   "id": "cbc70b18-965e-439b-aba3-7a689f4ae0d4",
   "metadata": {},
   "source": [
    "pipe.steps[0][1].transformers[0][1].categories[0]"
   ],
   "outputs": []
  },
  {
   "cell_type": "code",
   "execution_count": null,
   "id": "e63cd318-508e-4fe2-b724-ce92311dcceb",
   "metadata": {},
   "source": [],
   "outputs": []
  }
 ],
 "metadata": {
  "kernelspec": {
   "display_name": "Python 3 (ipykernel)",
   "language": "python",
   "name": "python3"
  },
  "language_info": {
   "codemirror_mode": {
    "name": "ipython",
    "version": 3
   },
   "file_extension": ".py",
   "mimetype": "text/x-python",
   "name": "python",
   "nbconvert_exporter": "python",
   "pygments_lexer": "ipython3",
   "version": "3.11.4"
  }
 },
 "nbformat": 4,
 "nbformat_minor": 5
}
